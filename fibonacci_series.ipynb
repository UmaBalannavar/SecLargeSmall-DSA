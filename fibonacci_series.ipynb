{
 "cells": [
  {
   "cell_type": "markdown",
   "metadata": {},
   "source": [
    "Fibonacci Series \n",
    "f(1)=1,F(0)=0,and F(n)=F(n-1)+F(n-2)\n",
    "Fibonacci Series=[0,1,1,2,3,5,8,13,21,....]\n",
    "Sum of Two consecutive numbers in series is next number in the series\n"
   ]
  },
  {
   "cell_type": "markdown",
   "metadata": {},
   "source": [
    "We could go for SWhile loop approach where we add and update the numbers previous to the current number in series "
   ]
  },
  {
   "cell_type": "code",
   "execution_count": 12,
   "metadata": {},
   "outputs": [
    {
     "ename": "NameError",
     "evalue": "name 'num' is not defined",
     "output_type": "error",
     "traceback": [
      "\u001b[1;31m---------------------------------------------------------------------------\u001b[0m",
      "\u001b[1;31mNameError\u001b[0m                                 Traceback (most recent call last)",
      "Cell \u001b[1;32mIn[12], line 7\u001b[0m\n\u001b[0;32m      5\u001b[0m count\u001b[38;5;241m=\u001b[39m\u001b[38;5;241m1\u001b[39m\n\u001b[0;32m      6\u001b[0m \u001b[38;5;28;01mwhile\u001b[39;00m count \u001b[38;5;241m<\u001b[39m\u001b[38;5;241m=\u001b[39mn:\n\u001b[1;32m----> 7\u001b[0m     \u001b[38;5;28mprint\u001b[39m(n\u001b[38;5;241m-\u001b[39m\u001b[43mnum\u001b[49m,end\u001b[38;5;241m=\u001b[39m\u001b[38;5;124m\"\u001b[39m\u001b[38;5;124m\"\u001b[39m)\n\u001b[0;32m      8\u001b[0m     count\u001b[38;5;241m+\u001b[39m\u001b[38;5;241m=\u001b[39m\u001b[38;5;241m1\u001b[39m\n\u001b[0;32m     10\u001b[0m n1,n2\u001b[38;5;241m=\u001b[39mn2,nxt_num\n",
      "\u001b[1;31mNameError\u001b[0m: name 'num' is not defined"
     ]
    }
   ],
   "source": [
    "n=10\n",
    "n1=0\n",
    "n2=0\n",
    "#nxt_num-n0=n2\n",
    "count=1\n",
    "while count <=n:\n",
    "    print(n-num,end=\"\")\n",
    "    count+=1\n",
    "\n",
    "n1,n2=n2,nxt_num\n",
    "nxt_num=n1+n2\n",
    "print()\n",
    "\n",
    "#i did not understand this properly"
   ]
  },
  {
   "cell_type": "code",
   "execution_count": null,
   "metadata": {},
   "outputs": [],
   "source": [
    "Recursion \n"
   ]
  },
  {
   "cell_type": "code",
   "execution_count": 13,
   "metadata": {},
   "outputs": [
    {
     "name": "stdout",
     "output_type": "stream",
     "text": [
      "34\n"
     ]
    }
   ],
   "source": [
    "def Fibo(n):\n",
    "    if n<0:\n",
    "        print(\"incorrect input\")\n",
    "    elif n==0:\n",
    "        return 0\n",
    "    elif n==1 or n==2:\n",
    "        return 1\n",
    "    else:\n",
    "        return Fibo(n-1)+Fibo(n-2)\n",
    "\n",
    "print(Fibo(9))\n"
   ]
  },
  {
   "cell_type": "code",
   "execution_count": 15,
   "metadata": {},
   "outputs": [
    {
     "data": {
      "text/plain": [
       "'n=int(input(\"Enter number\"))\\nprint(Fibo(n))'"
      ]
     },
     "execution_count": 15,
     "metadata": {},
     "output_type": "execute_result"
    }
   ],
   "source": [
    "def Fibo(n):\n",
    "    if n<0:\n",
    "        print(\"incorrect input\")\n",
    "    elif n==0:\n",
    "        return 0\n",
    "    elif n==1 or n==2:  \n",
    "        return 1\n",
    "    else:\n",
    "        return Fibo(n-1)+Fibo(n-2)\n",
    "\n",
    "\"\"\"n=int(input(\"Enter number\"))\n",
    "print(Fibo(n))\"\"\"\n"
   ]
  },
  {
   "cell_type": "markdown",
   "metadata": {},
   "source": [
    "a much simpler approach"
   ]
  },
  {
   "cell_type": "code",
   "execution_count": 4,
   "metadata": {},
   "outputs": [],
   "source": [
    "def F(n):\n",
    "   # a=0,b=1\n",
    "    if n<0:\n",
    "        print(\"input incorrect\")\n",
    "    elif n==0:\n",
    "        return 0\n",
    "    else:\n",
    "        for i in range(1,n):\n",
    "            c=a+b\n",
    "            a=b\n",
    "            b=c\n",
    "        return b    "
   ]
  },
  {
   "cell_type": "code",
   "execution_count": null,
   "metadata": {},
   "outputs": [],
   "source": [
    "def F(n):\n",
    "    current=prev+prevprev "
   ]
  }
 ],
 "metadata": {
  "kernelspec": {
   "display_name": "base",
   "language": "python",
   "name": "python3"
  },
  "language_info": {
   "codemirror_mode": {
    "name": "ipython",
    "version": 3
   },
   "file_extension": ".py",
   "mimetype": "text/x-python",
   "name": "python",
   "nbconvert_exporter": "python",
   "pygments_lexer": "ipython3",
   "version": "3.10.9"
  }
 },
 "nbformat": 4,
 "nbformat_minor": 2
}
