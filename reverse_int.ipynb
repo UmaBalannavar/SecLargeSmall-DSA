{
 "cells": [
  {
   "cell_type": "markdown",
   "metadata": {},
   "source": [
    "Reverse Integer\n",
    "Given a signed 32-bit integer x, return x with its digits reversed. If reversing x causes the value to go outside the signed 32-bit integer range [-231, 231 - 1], then return 0.\n",
    "\n",
    "Assume the environment does not allow you to store 64-bit integers (signed or unsigned)."
   ]
  },
  {
   "cell_type": "code",
   "execution_count": 8,
   "metadata": {},
   "outputs": [],
   "source": [
    "class Soln:\n",
    "    def funo(self, x: int )->int:\n",
    "        is_negative=False\n",
    "        if x<0:\n",
    "            is_negative=True\n",
    "            x=x*-1\n",
    "        rev=0\n",
    "        while x>0:\n",
    "            rev=(x%10)+(rev*10+rev)\n",
    "            x=x//10\n",
    "        if rev>2**31-1:\n",
    "            return 0\n",
    "        return rev*-1 if is_negative else rev\n"
   ]
  },
  {
   "cell_type": "markdown",
   "metadata": {},
   "source": [
    "Approach used here \n",
    "1. multiply by -1 when you need to convert from positive to negative and vice versa \n"
   ]
  }
 ],
 "metadata": {
  "kernelspec": {
   "display_name": "base",
   "language": "python",
   "name": "python3"
  },
  "language_info": {
   "codemirror_mode": {
    "name": "ipython",
    "version": 3
   },
   "file_extension": ".py",
   "mimetype": "text/x-python",
   "name": "python",
   "nbconvert_exporter": "python",
   "pygments_lexer": "ipython3",
   "version": "3.10.9"
  }
 },
 "nbformat": 4,
 "nbformat_minor": 2
}
