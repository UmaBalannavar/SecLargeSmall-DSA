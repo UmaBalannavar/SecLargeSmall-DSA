{
 "cells": [
  {
   "cell_type": "markdown",
   "metadata": {},
   "source": [
    " Kids With the Greatest Number of Candies"
   ]
  },
  {
   "cell_type": "markdown",
   "metadata": {},
   "source": [
    "There are n kids with candies. You are given an integer array candies, where each candies[i] represents the number of candies the ith kid has, and an integer extraCandies, denoting the number of extra candies that you have.\n",
    "\n",
    "Return a boolean array result of length n, where result[i] is true if, after giving the ith kid all the extraCandies, they will have the greatest number of candies among all the kids, or false otherwise.\n",
    "\n",
    "Note that multiple kids can have the greatest number of candies."
   ]
  },
  {
   "cell_type": "code",
   "execution_count": 1,
   "metadata": {},
   "outputs": [
    {
     "data": {
      "text/plain": [
       "[True, True, True, False, True]"
      ]
     },
     "execution_count": 1,
     "metadata": {},
     "output_type": "execute_result"
    }
   ],
   "source": [
    "def ab(candies,extraCandies):\n",
    "    x=max(candies)\n",
    "    result=[]\n",
    "    for i in range(len(candies)):\n",
    "        candies[i]+=extraCandies\n",
    "        if candies[i]>=x:\n",
    "            result.append(True)\n",
    "        else:\n",
    "            result.append(False)\n",
    "    return result  \n",
    "candies=[2,3,5,1,3]\n",
    "extraCandies=3\n",
    "ab(candies,extraCandies)"
   ]
  },
  {
   "cell_type": "code",
   "execution_count": null,
   "metadata": {},
   "outputs": [],
   "source": [
    "\n",
    "def ab(candies,extraCandies):\n",
    "    x=max(candies)\n",
    "    result=[]\n",
    "    for i in range(len(candies)):\n",
    "        candies[i]+=extraCandies\n",
    "        if candies[i]>=x:\n",
    "            result.append(True)\n",
    "        else:\n",
    "            result.append(False)\n",
    "    return result  \n",
    "\n",
    "#candies=[]\n",
    "\"\"\"n=int(input(\"enter the no of elements:\"))\n",
    "candies=[input(\"enter element:\") for _ in range(n)]\n",
    "extraCandies=int(input(\"enter the number of EctraCandies:\"))\n",
    "ab(candies,extraCandies)\"\"\"\n",
    "\n",
    "\n",
    "\n"
   ]
  }
 ],
 "metadata": {
  "kernelspec": {
   "display_name": "base",
   "language": "python",
   "name": "python3"
  },
  "language_info": {
   "codemirror_mode": {
    "name": "ipython",
    "version": 3
   },
   "file_extension": ".py",
   "mimetype": "text/x-python",
   "name": "python",
   "nbconvert_exporter": "python",
   "pygments_lexer": "ipython3",
   "version": "3.10.9"
  }
 },
 "nbformat": 4,
 "nbformat_minor": 2
}
