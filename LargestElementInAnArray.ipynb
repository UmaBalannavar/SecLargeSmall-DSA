{
 "cells": [
  {
   "cell_type": "markdown",
   "metadata": {},
   "source": [
    "largest lement in an array \n",
    "1.brute\n",
    "2.optimal"
   ]
  },
  {
   "cell_type": "code",
   "execution_count": 1,
   "metadata": {},
   "outputs": [],
   "source": [
    "#optimal\n",
    "def fun():\n",
    "    a=[]\n",
    "    largest=a[0]\n",
    "    for i in range(len(a)):\n",
    "        if(a[i]>length):\n",
    "            length=a[i]\n",
    "    return largest        "
   ]
  },
  {
   "cell_type": "code",
   "execution_count": 3,
   "metadata": {},
   "outputs": [],
   "source": [
    "#a=raw_input()\n",
    "#print(a)"
   ]
  },
  {
   "cell_type": "code",
   "execution_count": 4,
   "metadata": {},
   "outputs": [],
   "source": [
    "#brute\n",
    "def fun():\n",
    "    a=[]\n",
    "    for i in range(len(a)):\n",
    "        if a[i]>a[i+1]:\n",
    "            # a=[5,2,3,1,5,4]\n",
    "            t=a[i+1] \n",
    "            # i.e,t=2,a[i+1]=2\n",
    "            a[i+1]=a[i]\n",
    "            #a[i+1]=5,a[i]=5\n",
    "            a[i]=t\n",
    "            #a[i]=2,t=2\n",
    "            # at the end t=2,a[i]=2,a[i+1]=5\n",
    "    #sort then \n",
    "    x=len(a)\n",
    "    return  a[x-1]      \n"
   ]
  },
  {
   "cell_type": "code",
   "execution_count": 5,
   "metadata": {},
   "outputs": [],
   "source": [
    "#in python we have a fun for it \n",
    "def fun():\n",
    "    a=[]\n",
    "    x=max(a)\n",
    "    return x"
   ]
  },
  {
   "cell_type": "code",
   "execution_count": null,
   "metadata": {},
   "outputs": [
    {
     "name": "stdout",
     "output_type": "stream",
     "text": [
      "3\n",
      "10\n"
     ]
    }
   ],
   "source": [
    "#striver's soln\n",
    "\n",
    "from typing import List\n",
    "def sortArr(arr : List[int])->int:\n",
    "    arr.sort()\n",
    "    return arr[-1]\n",
    "if __name__==\"__main__\":\n",
    "    arr1=[2,3,1,3,0]\n",
    "    arr2=[8,10,5,7,9]\n",
    "    print(sortArr(arr1))\n",
    "    print(sortArr(arr2))\n",
    "#TC:O(nlogn)"
   ]
  },
  {
   "cell_type": "code",
   "execution_count": null,
   "metadata": {},
   "outputs": [
    {
     "name": "stdout",
     "output_type": "stream",
     "text": [
      "max element is 5\n",
      "max element: 10\n"
     ]
    }
   ],
   "source": [
    "#okay idk how to test code by passing values in this ipynb so it new\n",
    "def fun(a,n):\n",
    "    max=a[0]\n",
    "    for i in range(0,n):\n",
    "        # we could go with (1,n) 0 is already in max no need to compare it in loop with itself\n",
    "        if a[i]>max:\n",
    "            max=a[i]\n",
    "    return max\n",
    "if __name__==\"__main__\":\n",
    "    a1=[2,5,1,3,0]\n",
    "    n=5\n",
    "    max=fun(a1,n)\n",
    "    print(\"max element is\", max) \n",
    "    a2=[8,10,5,7,9]\n",
    "    n=5\n",
    "    max=fun(a2,n)\n",
    "    print('max element:',max)       \n",
    "#TC:O(n)"
   ]
  }
 ],
 "metadata": {
  "kernelspec": {
   "display_name": "base",
   "language": "python",
   "name": "python3"
  },
  "language_info": {
   "codemirror_mode": {
    "name": "ipython",
    "version": 3
   },
   "file_extension": ".py",
   "mimetype": "text/x-python",
   "name": "python",
   "nbconvert_exporter": "python",
   "pygments_lexer": "ipython3",
   "version": "3.10.9"
  }
 },
 "nbformat": 4,
 "nbformat_minor": 2
}
