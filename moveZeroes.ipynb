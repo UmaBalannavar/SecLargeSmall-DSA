{
 "cells": [
  {
   "cell_type": "markdown",
   "metadata": {},
   "source": [
    "283. Move Zeroes\n",
    "Given an integer array nums, move all 0's to the end of it while maintaining the relative order of the non-zero elements.\n",
    "\n",
    "Note that you must do this in-place without making a copy of the array.\n",
    "\n",
    " \n",
    "\n",
    "Example 1:\n",
    "\n",
    "Input: nums = [0,1,0,3,12]\n",
    "Output: [1,3,12,0,0]\n",
    "Example 2:\n",
    "\n",
    "Input: nums = [0]\n",
    "Output: [0]"
   ]
  },
  {
   "cell_type": "code",
   "execution_count": 1,
   "metadata": {},
   "outputs": [],
   "source": [
    "def mZ(self,nums: list[int])->None:\n",
    "    prev=0\n",
    "    for i in range(len(nums)):\n",
    "        if nums[i]!=0:\n",
    "            t=nums[prev]\n",
    "            nums[prev]=nums[i]\n",
    "            nums[i]=t\n",
    "            prev+=1\n",
    "\n"
   ]
  },
  {
   "cell_type": "code",
   "execution_count": 2,
   "metadata": {},
   "outputs": [],
   "source": [
    "def mZ(self,nums: list[int])->None:\n",
    "    prev=0\n",
    "    for i in range(len(nums)):\n",
    "        if nums[i]!=0:\n",
    "            t=nums[prev]\n",
    "            nums[prev]=nums[i]\n",
    "            nums[i]=t\n",
    "            prev+=1\n",
    "        else:\n",
    "            i+=1\n"
   ]
  }
 ],
 "metadata": {
  "kernelspec": {
   "display_name": "base",
   "language": "python",
   "name": "python3"
  },
  "language_info": {
   "codemirror_mode": {
    "name": "ipython",
    "version": 3
   },
   "file_extension": ".py",
   "mimetype": "text/x-python",
   "name": "python",
   "nbconvert_exporter": "python",
   "pygments_lexer": "ipython3",
   "version": "3.10.9"
  }
 },
 "nbformat": 4,
 "nbformat_minor": 2
}
