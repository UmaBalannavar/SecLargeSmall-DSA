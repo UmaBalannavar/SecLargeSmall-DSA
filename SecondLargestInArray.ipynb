{
 "cells": [
  {
   "cell_type": "markdown",
   "metadata": {},
   "source": [
    "FInd the second largest/smallest in array \n",
    "mostly asked in interviews"
   ]
  },
  {
   "cell_type": "code",
   "execution_count": null,
   "metadata": {},
   "outputs": [
    {
     "name": "stdout",
     "output_type": "stream",
     "text": [
      "second largest: 6\n"
     ]
    }
   ],
   "source": [
    "#brute force \n",
    "def fun(arr,n):\n",
    "    arr.sort()\n",
    "    return arr\n",
    "if __name__==\"__main__\":\n",
    "    arr1=[1,5,6,7,0]\n",
    "    n=5\n",
    "    sL=-1\n",
    "    sArr=fun(arr1,n)\n",
    "    for i in range(n-2,-1,-1):\n",
    "        if(sArr[i]!=sArr[n-1]): \n",
    "            sL=sArr[i]\n",
    "            break  \n",
    "        #hre break is very imp as it prevents from overwriting of sL\n",
    "    print(\"second largest:\",sL)     \n",
    "#code broken"
   ]
  },
  {
   "cell_type": "code",
   "execution_count": null,
   "metadata": {},
   "outputs": [
    {
     "name": "stdout",
     "output_type": "stream",
     "text": [
      "Second largest: 6\n"
     ]
    }
   ],
   "source": [
    "#chatgpt soln trying understand where im going wrong\n",
    "def fun(arr, n):\n",
    "    arr.sort()  # Sort in ascending order\n",
    "    return arr\n",
    "\n",
    "if __name__ == \"__main__\":\n",
    "    arr1 = [1, 5, 6, 7, 0]\n",
    "    n = len(arr1)\n",
    "\n",
    "    sArr = fun(arr1, n)\n",
    "\n",
    "    sL = -1  # Default if no second largest found\n",
    "\n",
    "    for i in range(n - 2, -1, -1):  # Start from second last element and move backward\n",
    "        if sArr[i] != sArr[n - 1]:  # Compare with the largest element\n",
    "            sL = sArr[i]\n",
    "            break  # Stop once found\n",
    "\n",
    "    if sL == -1:\n",
    "        print(\"No second largest element found\")\n",
    "    else:\n",
    "        print(\"Second largest:\", sL)\n"
   ]
  },
  {
   "cell_type": "code",
   "execution_count": 22,
   "metadata": {},
   "outputs": [
    {
     "name": "stdout",
     "output_type": "stream",
     "text": [
      "7\n",
      "7\n",
      "5\n",
      "3\n",
      "2\n",
      "second largest: 7\n"
     ]
    }
   ],
   "source": [
    "#best approach\n",
    "def fun(a,n):\n",
    "    max=a[0]\n",
    "    for i in range(len(a)):\n",
    "        if a[i]>max:\n",
    "            max=a[i]\n",
    "    return a\n",
    "if __name__==\"__main__\":\n",
    "    arr1=[7,7,5,3,2]\n",
    "    n=5\n",
    "    Sarr1=fun(arr1,n)\n",
    "    largest=Sarr1[-1]\n",
    "    sL=-1\n",
    "    for i in range(len(Sarr1)):\n",
    "        print(Sarr1[i])\n",
    "    for i in range(len(Sarr1)):\n",
    "        if Sarr1[i]>sL and Sarr1[i]!=largest:\n",
    "            sL=Sarr1[i]\n",
    "        else:\n",
    "            i=i-1\n",
    "\n",
    "    print(\"second largest:\",sL)"
   ]
  },
  {
   "cell_type": "code",
   "execution_count": 21,
   "metadata": {},
   "outputs": [
    {
     "name": "stdout",
     "output_type": "stream",
     "text": [
      "5\n"
     ]
    }
   ],
   "source": [
    "def fun(a,n):\n",
    "    max=a[0]\n",
    "    for i in range(0,n):\n",
    "        if a[i]>max:\n",
    "            max=a[i]\n",
    "    sL=-1\n",
    "    for i in range(0,n):\n",
    "        if a[i]>sL and a[i]!=max:\n",
    "            sL=a[i]\n",
    "    return sL\n",
    "if __name__==\"__main__\":\n",
    "    arr1=[1,2,4,7,7,5]\n",
    "    n=6\n",
    "    sL=fun(arr1,n)\n",
    "    print(sL)                "
   ]
  }
 ],
 "metadata": {
  "kernelspec": {
   "display_name": "base",
   "language": "python",
   "name": "python3"
  },
  "language_info": {
   "codemirror_mode": {
    "name": "ipython",
    "version": 3
   },
   "file_extension": ".py",
   "mimetype": "text/x-python",
   "name": "python",
   "nbconvert_exporter": "python",
   "pygments_lexer": "ipython3",
   "version": "3.10.9"
  }
 },
 "nbformat": 4,
 "nbformat_minor": 2
}
