{
 "cells": [
  {
   "cell_type": "markdown",
   "metadata": {},
   "source": [
    "ou have been given an array ‘a’ of ‘n’ unique non-negative integers.\n",
    "\n",
    "\n",
    "\n",
    "Find the second largest and second smallest element from the array.\n",
    "\n",
    "\n",
    "\n",
    "Return the two elements (second largest and second smallest) as another array of size 2.\n",
    "\n",
    "\n",
    "\n",
    "Example :\n",
    "Input: ‘n’ = 5, ‘a’ = [1, 2, 3, 4, 5]\n",
    "Output: [4, 2]\n",
    "\n",
    "The second largest element after 5 is 4, and the second smallest element after 1 is 2."
   ]
  },
  {
   "cell_type": "code",
   "execution_count": 1,
   "metadata": {},
   "outputs": [],
   "source": [
    "def secLargest(n : int ,a :[int])-> int:\n",
    "    largest=a[0]\n",
    "    sLargest=-1\n",
    "    for i in range (0,len(a)):\n",
    "        if a[i]>largest and a[i]<sLargest:\n",
    "            sLargest=largest\n",
    "            largest=a[i]\n",
    "        elif a[i]<largest and a[i]>sLargest:\n",
    "            sLargest=a[i]\n",
    "    return sLargest         \n",
    "\n",
    "def secSmallest(n :int , a: [int]) ->int :\n",
    "    smallest=a[0]\n",
    "    sSmallest=9999\n",
    "    for i in range(0,len(a)):\n",
    "        if a[i]<smallest and a[i]<sSmallest:\n",
    "            sSmallest=smallest\n",
    "            smallest=a[i]\n",
    "        elif a[i]!=smallest and a[i]<sSmallest:\n",
    "            sSmallest=a[i]\n",
    "        return sSmallest         \n",
    "\n",
    "\n",
    "\n",
    "def SecLargest(n : int , a: [int])-> int :\n",
    "    sLargest=secLargest(a,n)\n",
    "    sSmallest=secSmallest(a,n)\n",
    "    return [sLargest,sSmallest]\n",
    "    \n",
    "\n",
    "\n"
   ]
  },
  {
   "cell_type": "code",
   "execution_count": 2,
   "metadata": {},
   "outputs": [],
   "source": [
    "def getSecondLargestandSmallest( n : int ,a :[int])->int:\n",
    "    largest=a[0]\n",
    "    sLargest=-1\n",
    "    for i in range (0,len(a)):\n",
    "        if a[i]>largest and a[i]<sLargest:\n",
    "            sLargest=largest\n",
    "            largest=a[i]\n",
    "        elif a[i]<largest and a[i]>sLargest:\n",
    "            sLargest=a[i]\n",
    "    smallest=a[0]\n",
    "    sSmallest=9999\n",
    "    for i in range(0,len(a)):\n",
    "        if a[i]<smallest and a[i]<sSmallest:\n",
    "            sSmallest=smallest\n",
    "            smallest=a[i]\n",
    "        elif a[i]!=smallest and a[i]<sSmallest:\n",
    "            sSmallest=a[i]\n",
    "    return [sLargest,sSmallest]"
   ]
  },
  {
   "cell_type": "markdown",
   "metadata": {},
   "source": [
    "eg : a=[7,3,6]"
   ]
  }
 ],
 "metadata": {
  "kernelspec": {
   "display_name": "base",
   "language": "python",
   "name": "python3"
  },
  "language_info": {
   "codemirror_mode": {
    "name": "ipython",
    "version": 3
   },
   "file_extension": ".py",
   "mimetype": "text/x-python",
   "name": "python",
   "nbconvert_exporter": "python",
   "pygments_lexer": "ipython3",
   "version": "3.10.9"
  }
 },
 "nbformat": 4,
 "nbformat_minor": 2
}
